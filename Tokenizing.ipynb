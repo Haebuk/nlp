{
  "nbformat": 4,
  "nbformat_minor": 0,
  "metadata": {
    "colab": {
      "name": "Tokenizing.ipynb",
      "provenance": [],
      "authorship_tag": "ABX9TyMEnpEj/qCwdenRl80gX1P7",
      "include_colab_link": true
    },
    "kernelspec": {
      "name": "python3",
      "display_name": "Python 3"
    },
    "language_info": {
      "name": "python"
    }
  },
  "cells": [
    {
      "cell_type": "markdown",
      "metadata": {
        "id": "view-in-github",
        "colab_type": "text"
      },
      "source": [
        "<a href=\"https://colab.research.google.com/github/Haebuk/nlp/blob/main/Tokenizing.ipynb\" target=\"_parent\"><img src=\"https://colab.research.google.com/assets/colab-badge.svg\" alt=\"Open In Colab\"/></a>"
      ]
    },
    {
      "cell_type": "code",
      "metadata": {
        "colab": {
          "base_uri": "https://localhost:8080/"
        },
        "id": "a3WDmF-GRfHA",
        "outputId": "47f2acca-537a-49c1-8b39-a12a75acf043"
      },
      "source": [
        "!pip install konlpy -q"
      ],
      "execution_count": 1,
      "outputs": [
        {
          "output_type": "stream",
          "text": [
            "\u001b[K     |████████████████████████████████| 19.4MB 1.5MB/s \n",
            "\u001b[K     |████████████████████████████████| 92kB 7.7MB/s \n",
            "\u001b[K     |████████████████████████████████| 450kB 35.1MB/s \n",
            "\u001b[?25h"
          ],
          "name": "stdout"
        }
      ]
    },
    {
      "cell_type": "markdown",
      "metadata": {
        "id": "YsRShO63RlKv"
      },
      "source": [
        "## Kkma\n",
        "- `morphs(phrase)`: 형태소 단위로 토크나이징, 리스트 형태로 반환\n",
        "- `nouns(phrase)`: 명사인 토큰만 추출\n",
        "- `pos(phrase, flatten=True)`: 형태소 추출 후 품사 태깅\n",
        "- `sentences(phrase)`: 문장 분리\n",
        "\n",
        "다른 형태소 분석기에 비해 느리지만 Okt에 비해 지원하는 품사 태그가 다양\n",
        "\n",
        "속도가 느리더라도 정확한 품사 정보가 필요할 때 많이 사용\n",
        "\n",
        "56개의 품사 태그가 있음. 공식 문서 참조"
      ]
    },
    {
      "cell_type": "code",
      "metadata": {
        "colab": {
          "base_uri": "https://localhost:8080/"
        },
        "id": "MmFI1f50RwDJ",
        "outputId": "3db4dc7f-29c8-4ff9-f388-a5460a80bc7e"
      },
      "source": [
        "# 꼬꼬마 형태소 분석기 사용\n",
        "from konlpy.tag import Kkma\n",
        "\n",
        "# 꼬꼬마 형태소 분석기 개체 생성\n",
        "kkma = Kkma()\n",
        "\n",
        "text = '아버지가 방에 들어갑니다.'\n",
        "\n",
        "# 형태소 추출\n",
        "morphs = kkma.morphs(text)\n",
        "print(morphs)\n",
        "\n",
        "# 형태소와 품사 태그 추출\n",
        "pos = kkma.pos(text)\n",
        "print(pos)\n",
        "\n",
        "# 명사만 추출\n",
        "nouns = kkma.nouns(text)\n",
        "print(nouns)\n",
        "\n",
        "# 문장 분리\n",
        "sentences = '오늘 날씨는 어때요? 내일은 덥다던데.'\n",
        "s = kkma.sentences(sentences)\n",
        "print(s)"
      ],
      "execution_count": null,
      "outputs": [
        {
          "output_type": "stream",
          "text": [
            "['아버지', '가', '방', '에', '들어가', 'ㅂ니다', '.']\n",
            "[('아버지', 'NNG'), ('가', 'JKS'), ('방', 'NNG'), ('에', 'JKM'), ('들어가', 'VV'), ('ㅂ니다', 'EFN'), ('.', 'SF')]\n",
            "['아버지', '방']\n",
            "['오늘 날씨는 어 때요?', '내일은 덥다 던데.']\n"
          ],
          "name": "stdout"
        }
      ]
    },
    {
      "cell_type": "markdown",
      "metadata": {
        "id": "PSRx0uxTSV_Y"
      },
      "source": [
        "- NNG: 일반 명사\n",
        "- JKS: 주격 조사\n",
        "- JKM: 부사격 조사\n",
        "- VV: 동사\n",
        "- EFN: 평서형 종결 어미\n",
        "- SF: 마침표, 물음표, 느낌표"
      ]
    },
    {
      "cell_type": "markdown",
      "metadata": {
        "id": "NP9yNf9AzveL"
      },
      "source": [
        "## Komoran\n",
        "- `morphs(phrase)`: 형태소 단위로 토크나이징, 리스트 형태로 반환\n",
        "- `nouns(phrase)`: 명사인 토큰만 추출\n",
        "- `pos(phrase, flatten=True)`: 형태소 추출 후 품사 태깅"
      ]
    },
    {
      "cell_type": "code",
      "metadata": {
        "colab": {
          "base_uri": "https://localhost:8080/"
        },
        "id": "YWipSg67z2q4",
        "outputId": "59548a39-9447-45aa-9a9e-a2d2083477ca"
      },
      "source": [
        "from konlpy.tag import Komoran\n",
        "\n",
        "# 코모란 형태소 분석기 객체 생성\n",
        "komoran = Komoran()\n",
        "\n",
        "text = '아버지가 방에 들어갑니다.'\n",
        "\n",
        "# 형태소 추출\n",
        "morphs = komoran.morphs(text)\n",
        "print(morphs)\n",
        "\n",
        "# 형태소와 품사 태그 추출\n",
        "pos = komoran.pos(text)\n",
        "print(pos)\n",
        "\n",
        "# 명사만 추출\n",
        "nouns = komoran.nouns(text)\n",
        "print(nouns)"
      ],
      "execution_count": 3,
      "outputs": [
        {
          "output_type": "stream",
          "text": [
            "['아버지', '가', '방', '에', '들어가', 'ㅂ니다', '.']\n",
            "[('아버지', 'NNG'), ('가', 'JKS'), ('방', 'NNG'), ('에', 'JKB'), ('들어가', 'VV'), ('ㅂ니다', 'EF'), ('.', 'SF')]\n",
            "['아버지', '방']\n"
          ],
          "name": "stdout"
        }
      ]
    },
    {
      "cell_type": "markdown",
      "metadata": {
        "id": "1hOjEnMC0Xw8"
      },
      "source": [
        "- NNG: 일반 명사\n",
        "- JKS: 주격 조사\n",
        "- JKM: 부사격 조사\n",
        "- VV: 동사\n",
        "- EF: 종결 어미\n",
        "- SF: 마침표, 물음표, 느낌표"
      ]
    },
    {
      "cell_type": "markdown",
      "metadata": {
        "id": "No16kssO0bfZ"
      },
      "source": [
        "## Okt\n",
        "- 띄어쓰기가 어느 정도 되어 있는 문장을 빠르게 분석할 때 많이 사용\n",
        "\n",
        "- `morphs(phrase)`: 형태소 단위로 토크나이징, 리스트 형태로 반환\n",
        "- `nouns(phrase)`: 명사인 토큰만 추출\n",
        "- `pos(phrase, stem=False, join=False)`: 형태소 추출 후 품사 태깅\n",
        "- `normalize(phrase)`: 입력한 문장을 정규화\n",
        "    - 예) 정규화 이전: 사랑햌ㅋ\n",
        "    -     정규화 이후: 사랑해ㅋㅋ\n",
        "- `phrase(phrase)`: 입력한 문장에서 어구 추출\n",
        "    - 예) 입력: 오늘 날씨가 좋아요.\n",
        "    -     출력: ['오늘', '오늘 날씨', '날씨']"
      ]
    },
    {
      "cell_type": "code",
      "metadata": {
        "colab": {
          "base_uri": "https://localhost:8080/"
        },
        "id": "8jAcYSZj0hFH",
        "outputId": "6ee3e93b-d5be-489a-973d-944fa2b0cbe9"
      },
      "source": [
        "from konlpy.tag import Okt\n",
        "\n",
        "# Okt 형태소 분석기 객체 생성\n",
        "okt = Okt()\n",
        "\n",
        "text = '아버지가 방에 들어갑니다.'\n",
        "\n",
        "# 형태소 추출\n",
        "morphs = okt.morphs(text)\n",
        "print(morphs)\n",
        "\n",
        "# 형태소와 품사 태그 추출\n",
        "pos = okt.pos(text)\n",
        "print(pos)\n",
        "\n",
        "# 명사만 추출\n",
        "nouns = okt.nouns(text)\n",
        "print(nouns)\n",
        "\n",
        "# 정규화, 어구 추출\n",
        "text = '오늘 날씨가 좋아욬ㅋㅋ'\n",
        "print(okt.normalize(text))\n",
        "print(okt.phrases(text))"
      ],
      "execution_count": 4,
      "outputs": [
        {
          "output_type": "stream",
          "text": [
            "['아버지', '가', '방', '에', '들어갑니다', '.']\n",
            "[('아버지', 'Noun'), ('가', 'Josa'), ('방', 'Noun'), ('에', 'Josa'), ('들어갑니다', 'Verb'), ('.', 'Punctuation')]\n",
            "['아버지', '방']\n",
            "오늘 날씨가 좋아요ㅋㅋ\n",
            "['오늘', '오늘 날씨', '좋아욬', '날씨']\n"
          ],
          "name": "stdout"
        }
      ]
    },
    {
      "cell_type": "markdown",
      "metadata": {
        "id": "Kuhlzv_I1jsd"
      },
      "source": [
        "- Noun: 명사\n",
        "- Verb: 동사\n",
        "- Adjective: 형용사\n",
        "- Josa: 조사\n",
        "- Punctuation: 구두점"
      ]
    },
    {
      "cell_type": "code",
      "metadata": {
        "id": "Xq-_7P_LTSc-"
      },
      "source": [
        ""
      ],
      "execution_count": null,
      "outputs": []
    }
  ]
}